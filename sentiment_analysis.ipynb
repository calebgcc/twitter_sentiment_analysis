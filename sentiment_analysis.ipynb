{
  "nbformat": 4,
  "nbformat_minor": 0,
  "metadata": {
    "colab": {
      "name": "sentiment_analysis.ipynb",
      "provenance": [],
      "collapsed_sections": []
    },
    "kernelspec": {
      "name": "python3",
      "display_name": "Python 3"
    },
    "language_info": {
      "name": "python"
    }
  },
  "cells": [
    {
      "cell_type": "markdown",
      "metadata": {
        "id": "mlzQrCStLi_n"
      },
      "source": [
        "# Twitter Sentiment Analysis with Logistic Regression"
      ]
    },
    {
      "cell_type": "markdown",
      "metadata": {
        "id": "G495-Y1njzI-"
      },
      "source": [
        "The dataset is divided into two categories of tweets: positive (1) and negative (0).\n",
        "\n",
        "In the positive tweets we find feelings of *happiness*, *excitement*, *gratitude*, in the negative tweets we find feelings of *sadness*, *depression*, anger.\n",
        "\n",
        "The goal is to train a model that can classify the general sentiment of the tweet."
      ]
    },
    {
      "cell_type": "code",
      "metadata": {
        "id": "J42nL31PwBSM"
      },
      "source": [
        "# importing module\n",
        "import nltk\n",
        "nltk.download(\"popular\") #importing dataset\n",
        "from nltk.corpus import twitter_samples\n",
        "import numpy as np\n",
        "import pandas as pd\n",
        "pd.options.mode.chained_assignment = None\n",
        "import seaborn as sn\n",
        "import matplotlib.pyplot as plt\n",
        "\n",
        "\n",
        "positive_sample = twitter_samples.strings('positive_tweets.json')\n",
        "negative_sample = twitter_samples.strings('negative_tweets.json')"
      ],
      "execution_count": null,
      "outputs": []
    },
    {
      "cell_type": "markdown",
      "metadata": {
        "id": "1d2JBOgrL4Dr"
      },
      "source": [
        "Making Pandas DataFrame"
      ]
    },
    {
      "cell_type": "code",
      "metadata": {
        "id": "bWJbig5MxCKC",
        "colab": {
          "base_uri": "https://localhost:8080/",
          "height": 423
        },
        "outputId": "a2991ab1-e883-4f2d-8923-6b8ad974dad4"
      },
      "source": [
        "d = {\"tweet\":positive_sample+negative_sample,\"sentiment\":[1]*5000+[0]*5000}\n",
        "df = pd.DataFrame(data=d)\n",
        "df = df.sample(frac=1).reset_index(drop=True)\n",
        "df"
      ],
      "execution_count": 114,
      "outputs": [
        {
          "output_type": "execute_result",
          "data": {
            "text/html": [
              "<div>\n",
              "<style scoped>\n",
              "    .dataframe tbody tr th:only-of-type {\n",
              "        vertical-align: middle;\n",
              "    }\n",
              "\n",
              "    .dataframe tbody tr th {\n",
              "        vertical-align: top;\n",
              "    }\n",
              "\n",
              "    .dataframe thead th {\n",
              "        text-align: right;\n",
              "    }\n",
              "</style>\n",
              "<table border=\"1\" class=\"dataframe\">\n",
              "  <thead>\n",
              "    <tr style=\"text-align: right;\">\n",
              "      <th></th>\n",
              "      <th>tweet</th>\n",
              "      <th>sentiment</th>\n",
              "    </tr>\n",
              "  </thead>\n",
              "  <tbody>\n",
              "    <tr>\n",
              "      <th>0</th>\n",
              "      <td>AuG I'm super packed. But however, I rather to...</td>\n",
              "      <td>1</td>\n",
              "    </tr>\n",
              "    <tr>\n",
              "      <th>1</th>\n",
              "      <td>@kirstin_taylor  @genmakeup but no picture? :(</td>\n",
              "      <td>0</td>\n",
              "    </tr>\n",
              "    <tr>\n",
              "      <th>2</th>\n",
              "      <td>@awad_gina @phonicfm @WomenAwards Oh Gina, you...</td>\n",
              "      <td>1</td>\n",
              "    </tr>\n",
              "    <tr>\n",
              "      <th>3</th>\n",
              "      <td>@Saeek Step is good option in that case ... I ...</td>\n",
              "      <td>1</td>\n",
              "    </tr>\n",
              "    <tr>\n",
              "      <th>4</th>\n",
              "      <td>i think I'm getting sick :(</td>\n",
              "      <td>0</td>\n",
              "    </tr>\n",
              "    <tr>\n",
              "      <th>...</th>\n",
              "      <td>...</td>\n",
              "      <td>...</td>\n",
              "    </tr>\n",
              "    <tr>\n",
              "      <th>9995</th>\n",
              "      <td>It sucks so much been sick i was plan to start...</td>\n",
              "      <td>0</td>\n",
              "    </tr>\n",
              "    <tr>\n",
              "      <th>9996</th>\n",
              "      <td>@martylog Listening back to old @DaveGorman sh...</td>\n",
              "      <td>0</td>\n",
              "    </tr>\n",
              "    <tr>\n",
              "      <th>9997</th>\n",
              "      <td>@JellyBabyMom2 Whoop whoop! Bring on the fun :)</td>\n",
              "      <td>1</td>\n",
              "    </tr>\n",
              "    <tr>\n",
              "      <th>9998</th>\n",
              "      <td>other side of the world from all my people :( ...</td>\n",
              "      <td>0</td>\n",
              "    </tr>\n",
              "    <tr>\n",
              "      <th>9999</th>\n",
              "      <td>@PinkCloud_RP so when will i get my jonghyun h...</td>\n",
              "      <td>0</td>\n",
              "    </tr>\n",
              "  </tbody>\n",
              "</table>\n",
              "<p>10000 rows × 2 columns</p>\n",
              "</div>"
            ],
            "text/plain": [
              "                                                  tweet  sentiment\n",
              "0     AuG I'm super packed. But however, I rather to...          1\n",
              "1        @kirstin_taylor  @genmakeup but no picture? :(          0\n",
              "2     @awad_gina @phonicfm @WomenAwards Oh Gina, you...          1\n",
              "3     @Saeek Step is good option in that case ... I ...          1\n",
              "4                           i think I'm getting sick :(          0\n",
              "...                                                 ...        ...\n",
              "9995  It sucks so much been sick i was plan to start...          0\n",
              "9996  @martylog Listening back to old @DaveGorman sh...          0\n",
              "9997    @JellyBabyMom2 Whoop whoop! Bring on the fun :)          1\n",
              "9998  other side of the world from all my people :( ...          0\n",
              "9999  @PinkCloud_RP so when will i get my jonghyun h...          0\n",
              "\n",
              "[10000 rows x 2 columns]"
            ]
          },
          "metadata": {},
          "execution_count": 114
        }
      ]
    },
    {
      "cell_type": "markdown",
      "source": [
        "### Train & Test Split"
      ],
      "metadata": {
        "id": "jaLGdd4PLtUZ"
      }
    },
    {
      "cell_type": "code",
      "source": [
        "positive = df.loc[df['sentiment']==1]\n",
        "negative = df.loc[df['sentiment']==0]\n",
        "\n",
        "\n",
        "train = pd.concat([positive[:3500],negative[:3500]])\n",
        "test = pd.concat([positive[3500:],negative[3500:]])\n",
        "\n",
        "# we will use this to make the freq dictionary\n",
        "positive_tweet = train.loc[train['sentiment']==1]['tweet']\n",
        "negative_tweet = train.loc[train['sentiment']==0]['tweet']"
      ],
      "metadata": {
        "id": "3LtIIsfrLr-K"
      },
      "execution_count": 118,
      "outputs": []
    },
    {
      "cell_type": "markdown",
      "metadata": {
        "id": "w5ohjnCyMUPW"
      },
      "source": [
        "### Data Cleaning"
      ]
    },
    {
      "cell_type": "markdown",
      "metadata": {
        "id": "QAyubmIgmSDG"
      },
      "source": [
        "Tweets include special characters (like hashtags '#') or links (https://.....) that are useless for reaching our goal.\n",
        "\n",
        "The Data Cleaning phase helps to remove all these less important characters (\"#today\" => \"today\") and to remove some words that do not add meaning to the sentence (the \"stopwords\")."
      ]
    },
    {
      "cell_type": "code",
      "metadata": {
        "id": "SVZRdCzFxw0m",
        "colab": {
          "base_uri": "https://localhost:8080/"
        },
        "outputId": "fd770cb8-7fa5-40cd-f627-6ca3bc9d3fce"
      },
      "source": [
        "import re                                  \n",
        "import string\n",
        "from nltk.corpus import stopwords          \n",
        "from nltk.stem import PorterStemmer\n",
        "from nltk.tokenize import TweetTokenizer        \n",
        "\n",
        "def text_process(tweet):\n",
        "    tweet = re.sub(r'^RT[\\s]+', '', tweet)\n",
        "    tweet = re.sub(r'@[\\w]+', '', tweet)\n",
        "    tweet = re.sub(r'https?:\\/\\/.*[\\r\\n]*', '', tweet)\n",
        "    tweet = re.sub(r'#', '', tweet)\n",
        "    tokenizer = TweetTokenizer()\n",
        "    tweet_tokenized = tokenizer.tokenize(tweet)\n",
        "    stopwords_english = stopwords.words('english')\n",
        "    stemmer = PorterStemmer() \n",
        "\n",
        "    pron = ['i', 'you','he','she','it','we','they']\n",
        "    tweet_processed = [] \n",
        "    for word in tweet_tokenized:\n",
        "      if word not in stopwords_english and word not in string.punctuation:\n",
        "        word = word.lower()\n",
        "        if word in pron: continue\n",
        "        tweet_processed.append(stemmer.stem(word))\n",
        "\n",
        "    return tweet_processed\n",
        "\n",
        "print(negative_sample[1])\n",
        "text_process(negative_sample[1])"
      ],
      "execution_count": 119,
      "outputs": [
        {
          "output_type": "stream",
          "name": "stdout",
          "text": [
            "Everything in the kids section of IKEA is so cute. Shame I'm nearly 19 in 2 months :(\n"
          ]
        },
        {
          "output_type": "execute_result",
          "data": {
            "text/plain": [
              "['everyth',\n",
              " 'kid',\n",
              " 'section',\n",
              " 'ikea',\n",
              " 'cute',\n",
              " 'shame',\n",
              " \"i'm\",\n",
              " 'nearli',\n",
              " '19',\n",
              " '2',\n",
              " 'month',\n",
              " ':(']"
            ]
          },
          "metadata": {},
          "execution_count": 119
        }
      ]
    },
    {
      "cell_type": "markdown",
      "metadata": {
        "id": "wD7IdTgFM47j"
      },
      "source": [
        "#### Mapping Dataset's Words Frequency\n"
      ]
    },
    {
      "cell_type": "markdown",
      "metadata": {
        "id": "uWdwwBUUnZOd"
      },
      "source": [
        "We can't pass strings to our model, so we need to find a way to turn our tweets into numbers.\n",
        "\n",
        "One way is through frequency mapping:\n",
        "We count how many times a word is used in positive tweets and how many in negative tweets.\n",
        "\n",
        "Then for each tweet we add up the positive frequency of all the words in the tweet and also the negative frequency."
      ]
    },
    {
      "cell_type": "code",
      "metadata": {
        "id": "ec1By55Zzsxr"
      },
      "source": [
        "freq = {}\n",
        "words = []\n",
        "for tweet in positive_tweet:\n",
        "  word_list = text_process(tweet)\n",
        "  for word in word_list:\n",
        "    words.append(word)\n",
        "\n",
        "for word in words: # count how many times -word- is used in the positive tweets\n",
        "  if (word,1) in freq:\n",
        "    freq[(word,1)] +=1\n",
        "  else:\n",
        "    freq[(word,1)] = 1\n",
        "\n",
        "words = []\n",
        "for tweet in negative_tweet:\n",
        "  word_list = text_process(tweet)\n",
        "  for word in word_list:\n",
        "    words.append(word)\n",
        "\n",
        "for word in words: # count how many times -word- is used in the negative tweets\n",
        "  if (word,0) in freq:\n",
        "    freq[(word,0)] +=1\n",
        "  else:\n",
        "    freq[(word,0)] = 1"
      ],
      "execution_count": 120,
      "outputs": []
    },
    {
      "cell_type": "code",
      "metadata": {
        "colab": {
          "base_uri": "https://localhost:8080/",
          "height": 423
        },
        "id": "JcUBCPF1YkQW",
        "outputId": "121c0fe0-5bf4-4bd8-ce84-a52055e7bc31"
      },
      "source": [
        "def features_extraction(tweet, freq):\n",
        "    word_l = text_process(tweet)\n",
        "    x = np.zeros((1, 3))\n",
        "    pos = 0\n",
        "    neg = 0\n",
        "    for word in word_l:\n",
        "        try:\n",
        "            pos += freq[(word,1)]\n",
        "        except:\n",
        "            pos += 0\n",
        "        try: \n",
        "            neg += freq[(word,0)]\n",
        "        except:\n",
        "            neg += 0\n",
        "    return pos,neg\n",
        "\n",
        "freq_positive = []\n",
        "freq_negative = []\n",
        "\n",
        "for tweet in train['tweet']:\n",
        "  pos,neg = features_extraction(tweet,freq) # for every tweet in train\n",
        "  freq_positive.append(pos) # save the sum of positive frequency\n",
        "  freq_negative.append(neg) # save the sum of negative frequency\n",
        "\n",
        "train['freq_positive'] = freq_positive\n",
        "train['freq_negative'] = freq_negative\n",
        "\n",
        "freq_positive = []\n",
        "freq_negative = []\n",
        "\n",
        "for tweet in test['tweet']:\n",
        "  pos,neg = features_extraction(tweet,freq) # for every tweet in test\n",
        "  freq_positive.append(pos) # save the sum of positive frequency\n",
        "  freq_negative.append(neg) # save the sum of negative frequency\n",
        "\n",
        "test['freq_positive'] = freq_positive\n",
        "test['freq_negative'] = freq_negative\n",
        "\n",
        "train"
      ],
      "execution_count": 121,
      "outputs": [
        {
          "output_type": "execute_result",
          "data": {
            "text/html": [
              "<div>\n",
              "<style scoped>\n",
              "    .dataframe tbody tr th:only-of-type {\n",
              "        vertical-align: middle;\n",
              "    }\n",
              "\n",
              "    .dataframe tbody tr th {\n",
              "        vertical-align: top;\n",
              "    }\n",
              "\n",
              "    .dataframe thead th {\n",
              "        text-align: right;\n",
              "    }\n",
              "</style>\n",
              "<table border=\"1\" class=\"dataframe\">\n",
              "  <thead>\n",
              "    <tr style=\"text-align: right;\">\n",
              "      <th></th>\n",
              "      <th>tweet</th>\n",
              "      <th>sentiment</th>\n",
              "      <th>freq_positive</th>\n",
              "      <th>freq_negative</th>\n",
              "    </tr>\n",
              "  </thead>\n",
              "  <tbody>\n",
              "    <tr>\n",
              "      <th>0</th>\n",
              "      <td>AuG I'm super packed. But however, I rather to...</td>\n",
              "      <td>1</td>\n",
              "      <td>2854</td>\n",
              "      <td>476</td>\n",
              "    </tr>\n",
              "    <tr>\n",
              "      <th>2</th>\n",
              "      <td>@awad_gina @phonicfm @WomenAwards Oh Gina, you...</td>\n",
              "      <td>1</td>\n",
              "      <td>783</td>\n",
              "      <td>353</td>\n",
              "    </tr>\n",
              "    <tr>\n",
              "      <th>3</th>\n",
              "      <td>@Saeek Step is good option in that case ... I ...</td>\n",
              "      <td>1</td>\n",
              "      <td>2986</td>\n",
              "      <td>354</td>\n",
              "    </tr>\n",
              "    <tr>\n",
              "      <th>6</th>\n",
              "      <td>@zaynmalik prince charming on stage :) x https...</td>\n",
              "      <td>1</td>\n",
              "      <td>2573</td>\n",
              "      <td>42</td>\n",
              "    </tr>\n",
              "    <tr>\n",
              "      <th>9</th>\n",
              "      <td>The long wait is over :)\\n#OTWOLGrandTrailer</td>\n",
              "      <td>1</td>\n",
              "      <td>2662</td>\n",
              "      <td>105</td>\n",
              "    </tr>\n",
              "    <tr>\n",
              "      <th>...</th>\n",
              "      <td>...</td>\n",
              "      <td>...</td>\n",
              "      <td>...</td>\n",
              "      <td>...</td>\n",
              "    </tr>\n",
              "    <tr>\n",
              "      <th>7051</th>\n",
              "      <td>most of the prompts being claimed so far are k...</td>\n",
              "      <td>0</td>\n",
              "      <td>859</td>\n",
              "      <td>4151</td>\n",
              "    </tr>\n",
              "    <tr>\n",
              "      <th>7053</th>\n",
              "      <td>Please take me with you :-( https://t.co/0foUN...</td>\n",
              "      <td>0</td>\n",
              "      <td>103</td>\n",
              "      <td>575</td>\n",
              "    </tr>\n",
              "    <tr>\n",
              "      <th>7054</th>\n",
              "      <td>@ASUS_ROGUK @OC3D That's what she said! .... :(</td>\n",
              "      <td>0</td>\n",
              "      <td>263</td>\n",
              "      <td>3502</td>\n",
              "    </tr>\n",
              "    <tr>\n",
              "      <th>7055</th>\n",
              "      <td>Fabian Delph has fallen :(\\n@BLUEARMY_IND @MCFC</td>\n",
              "      <td>0</td>\n",
              "      <td>1</td>\n",
              "      <td>3218</td>\n",
              "    </tr>\n",
              "    <tr>\n",
              "      <th>7058</th>\n",
              "      <td>streams are just awful for me lately.... chopp...</td>\n",
              "      <td>0</td>\n",
              "      <td>346</td>\n",
              "      <td>3586</td>\n",
              "    </tr>\n",
              "  </tbody>\n",
              "</table>\n",
              "<p>7000 rows × 4 columns</p>\n",
              "</div>"
            ],
            "text/plain": [
              "                                                  tweet  ...  freq_negative\n",
              "0     AuG I'm super packed. But however, I rather to...  ...            476\n",
              "2     @awad_gina @phonicfm @WomenAwards Oh Gina, you...  ...            353\n",
              "3     @Saeek Step is good option in that case ... I ...  ...            354\n",
              "6     @zaynmalik prince charming on stage :) x https...  ...             42\n",
              "9          The long wait is over :)\\n#OTWOLGrandTrailer  ...            105\n",
              "...                                                 ...  ...            ...\n",
              "7051  most of the prompts being claimed so far are k...  ...           4151\n",
              "7053  Please take me with you :-( https://t.co/0foUN...  ...            575\n",
              "7054    @ASUS_ROGUK @OC3D That's what she said! .... :(  ...           3502\n",
              "7055    Fabian Delph has fallen :(\\n@BLUEARMY_IND @MCFC  ...           3218\n",
              "7058  streams are just awful for me lately.... chopp...  ...           3586\n",
              "\n",
              "[7000 rows x 4 columns]"
            ]
          },
          "metadata": {},
          "execution_count": 121
        }
      ]
    },
    {
      "cell_type": "code",
      "source": [
        "# train & test split part. 2 :)\n",
        "X_train = train[['freq_positive','freq_negative']].to_numpy()\n",
        "X_train = np.hstack((X_train,np.ones((X_train.shape[0],1)))) # adding ones for bias\n",
        "\n",
        "y_train = train['sentiment'].to_numpy()\n",
        "y_train = y_train.reshape((7000,1))\n",
        "\n",
        "X_test = test[['freq_positive','freq_negative']].to_numpy()\n",
        "X_test = np.hstack((X_test,np.ones((X_test.shape[0],1)))) # adding ones for bias\n",
        "\n",
        "y_test = test['sentiment'].to_numpy()\n",
        "y_test = y_test.reshape((3000,1))"
      ],
      "metadata": {
        "id": "Psvw5dx5Ui7c"
      },
      "execution_count": 122,
      "outputs": []
    },
    {
      "cell_type": "markdown",
      "metadata": {
        "id": "Lj761qIRNZr3"
      },
      "source": [
        "### Logistic Regression Implementation"
      ]
    },
    {
      "cell_type": "code",
      "metadata": {
        "colab": {
          "base_uri": "https://localhost:8080/"
        },
        "id": "_GQE8L3fdbZl",
        "outputId": "4fa3932e-c04c-4854-df5b-5af4ca4b72b0"
      },
      "source": [
        "def sigmoid(x): \n",
        "    h = 1/(1+np.exp(-x))\n",
        "    return h\n",
        "\n",
        "def learn(x, y, alpha, num_iters):\n",
        "    theta = np.zeros((3,1))\n",
        "    m = x.shape[0]\n",
        "    J = []\n",
        "    for i in range(0, num_iters):\n",
        "        z = x @ theta\n",
        "        h = sigmoid(z)\n",
        "        J.append(-1/m*((y.T @ np.log(h))+((1-y).T @ np.log(1-h)))) # Cross entropy function\n",
        "        theta -= (alpha/m)*(x.T@(h-y)) # gradient descent\n",
        "    return J,theta\n",
        "\n",
        "J,theta = learn(X_train,y_train, 1e-9, 3000)\n",
        "print(theta)"
      ],
      "execution_count": 128,
      "outputs": [
        {
          "output_type": "stream",
          "name": "stdout",
          "text": [
            "[[ 7.69025021e-04]\n",
            " [-7.67895845e-04]\n",
            " [ 1.44400092e-07]]\n"
          ]
        }
      ]
    },
    {
      "cell_type": "code",
      "metadata": {
        "colab": {
          "base_uri": "https://localhost:8080/",
          "height": 279
        },
        "id": "xgi7De1JbwhZ",
        "outputId": "1b9d66d6-8085-4017-e0ca-bf002214f257"
      },
      "source": [
        "# cross entropy minimized\n",
        "J = np.array(J).reshape(len(J))\n",
        "plt.plot(range(len(J)),J)\n",
        "plt.xlabel(\"epochs\")\n",
        "plt.ylabel(\"loss function\")\n",
        "plt.show()"
      ],
      "execution_count": 129,
      "outputs": [
        {
          "output_type": "display_data",
          "data": {
            "image/png": "[encoded data removed]",
            "text/plain": [
              "<Figure size 432x288 with 1 Axes>"
            ]
          },
          "metadata": {
            "needs_background": "light"
          }
        }
      ]
    },
    {
      "cell_type": "markdown",
      "metadata": {
        "id": "nKam6B2TOQ-P"
      },
      "source": [
        "Testing and Validation"
      ]
    },
    {
      "cell_type": "code",
      "metadata": {
        "colab": {
          "base_uri": "https://localhost:8080/"
        },
        "id": "KSrMQ5ijgB-a",
        "outputId": "d6e94204-712b-440e-d240-96dd489b1c93"
      },
      "source": [
        "def predict(x, freq, theta):\n",
        "    y_pred = sigmoid((x @ theta))\n",
        "    return  y_pred > 0.5\n",
        "\n",
        "def test_accuracy(x, y, freq, theta):\n",
        "    y_hat = predict(x,freq,theta)\n",
        "        \n",
        "    m = len(y_hat)\n",
        "    y_hat = y_hat.reshape(m)\n",
        "    y = y.reshape(m)\n",
        "    \n",
        "    test = list((y_hat == y))\n",
        "    j = test.count(True)\n",
        "    accuracy = j/m\n",
        "    return y_hat ,accuracy*100\n",
        "\n",
        "y_hat, accuracy = test_accuracy(X_test, y_test, freq, theta)\n",
        "print(\"Accuracy:{}%\".format(accuracy))"
      ],
      "execution_count": 130,
      "outputs": [
        {
          "output_type": "stream",
          "name": "stdout",
          "text": [
            "Accuracy:99.3%\n"
          ]
        }
      ]
    },
    {
      "cell_type": "code",
      "metadata": {
        "id": "kWj2xTP-ijuS",
        "colab": {
          "base_uri": "https://localhost:8080/"
        },
        "outputId": "05eaa81c-1c67-4891-b6da-c26ec5e5af45"
      },
      "source": [
        "pos,neg = features_extraction(\"Today is a beautiful day :)\",freq)\n",
        "print(predict([[pos,neg,1]],freq,theta))"
      ],
      "execution_count": 131,
      "outputs": [
        {
          "output_type": "stream",
          "name": "stdout",
          "text": [
            "[[ True]]\n"
          ]
        }
      ]
    },
    {
      "cell_type": "markdown",
      "metadata": {
        "id": "HudXyiJ7Tw2W"
      },
      "source": [
        "Confusion Matrix"
      ]
    },
    {
      "cell_type": "code",
      "metadata": {
        "id": "DSjyS1cQScqU",
        "colab": {
          "base_uri": "https://localhost:8080/",
          "height": 279
        },
        "outputId": "81cba757-85d7-44d5-856c-8667f0115b92"
      },
      "source": [
        "data = {'y_Actual':    y_test.reshape(len(y_hat)),'y_Predicted': y_hat}\n",
        "df = pd.DataFrame(data, columns=['y_Actual','y_Predicted'])\n",
        "\n",
        "confusion_matrix = pd.crosstab(df['y_Actual'], df['y_Predicted'], rownames=['Actual'], colnames=['Predicted'])\n",
        "sn.heatmap(confusion_matrix, annot=True)\n",
        "plt.show()"
      ],
      "execution_count": 132,
      "outputs": [
        {
          "output_type": "display_data",
          "data": {
            "image/png": "[encoded data removed]",
            "text/plain": [
              "<Figure size 432x288 with 2 Axes>"
            ]
          },
          "metadata": {
            "needs_background": "light"
          }
        }
      ]
    },
    {
      "cell_type": "code",
      "source": [
        ""
      ],
      "metadata": {
        "id": "OX7lZsBFVhKN"
      },
      "execution_count": 94,
      "outputs": []
    }
  ]
}